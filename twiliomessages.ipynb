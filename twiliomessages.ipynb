{
 "cells": [
  {
   "cell_type": "code",
   "execution_count": null,
   "metadata": {},
   "outputs": [],
   "source": [
    "##### Download library if you have not done so.\n",
    "\n",
    "## !pip install twilio\n",
    "## !pip install requests\n",
    "## !pip install bs4"
   ]
  },
  {
   "cell_type": "code",
   "execution_count": null,
   "metadata": {},
   "outputs": [],
   "source": [
    "#### importing necessary librarys\n",
    "from twilio.rest import Client\n",
    "import requests,bs4,time,datetime"
   ]
  },
  {
   "cell_type": "code",
   "execution_count": null,
   "metadata": {},
   "outputs": [],
   "source": [
    "### getting your accountSID and authtoken from twilio website.\n",
    "accountSID='ACd9286a9989c75db3290f45260fcbe08f'\n",
    "auth = '27caf39985f5bfd4169fef00e6420097'"
   ]
  },
  {
   "cell_type": "code",
   "execution_count": null,
   "metadata": {},
   "outputs": [],
   "source": [
    "##### sending the message from tilio number to the recipient's phone number\n",
    "twilioCli = Client(accountSID,auth)\n",
    "\n",
    "tilioNum='+13346001946'\n",
    "mycell='number to call'\n"
   ]
  },
  {
   "cell_type": "code",
   "execution_count": null,
   "metadata": {},
   "outputs": [],
   "source": [
    "#################################################################################################################\n",
    "###### finding weather information online\n",
    "\n",
    "weatherurl='https://weather.com/weather/today/l/8c295967f3eabb16e89e52e2737d802c75eb5b312a1f9c50e2705ce9ee7a5892'\n",
    "res= requests.get(weatherurl)\n",
    "\n",
    "Soup = bs4.BeautifulSoup(res.text,'html.parser')\n",
    "\n",
    "weatherpred=Soup.select('div[class=today_nowcard-phrase]')\n",
    "\n",
    "todayweather=weatherpred[0].text\n",
    "todayweather"
   ]
  },
  {
   "cell_type": "code",
   "execution_count": null,
   "metadata": {},
   "outputs": [],
   "source": [
    "### sending text message in the morning if today will rain\n",
    "currenttime=datetime.datetime.now()\n",
    "while True:\n",
    "    if 'rain' in todayweather.lower() and currenttime.hour ==14:\n",
    "        message=twilioCli.messages.create(body='Today will rain. bring umbrella',from_=tilioNum,to=mycell)\n",
    "        print('before')\n",
    "        time.sleep(600)\n",
    "        print('after')"
   ]
  },
  {
   "cell_type": "code",
   "execution_count": null,
   "metadata": {},
   "outputs": [],
   "source": []
  }
 ],
 "metadata": {
  "kernelspec": {
   "display_name": "Python 3",
   "language": "python",
   "name": "python3"
  },
  "language_info": {
   "codemirror_mode": {
    "name": "ipython",
    "version": 3
   },
   "file_extension": ".py",
   "mimetype": "text/x-python",
   "name": "python",
   "nbconvert_exporter": "python",
   "pygments_lexer": "ipython3",
   "version": "3.7.6"
  }
 },
 "nbformat": 4,
 "nbformat_minor": 4
}
